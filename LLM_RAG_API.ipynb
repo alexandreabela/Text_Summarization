{
  "cells": [
    {
      "cell_type": "markdown",
      "metadata": {},
      "source": [
        "# Bibliothèques"
      ]
    },
    {
      "cell_type": "code",
      "execution_count": 118,
      "metadata": {
        "id": "p8p0f78fQcsp"
      },
      "outputs": [],
      "source": [
        "from getpass import getpass\n",
        "import os\n",
        "from langchain_community.llms import HuggingFaceEndpoint\n",
        "from langchain.chains import LLMChain\n",
        "from langchain.prompts import PromptTemplate"
      ]
    },
    {
      "cell_type": "markdown",
      "metadata": {},
      "source": [
        "## Chemin vers le fichier de données"
      ]
    },
    {
      "cell_type": "code",
      "execution_count": 117,
      "metadata": {
        "id": "gtCli9rtd851"
      },
      "outputs": [],
      "source": [
        "data_folder_path = 'data/'"
      ]
    },
    {
      "cell_type": "markdown",
      "metadata": {},
      "source": [
        "## Token pour connexion avec Hugging Face"
      ]
    },
    {
      "cell_type": "code",
      "execution_count": 119,
      "metadata": {},
      "outputs": [],
      "source": [
        "HUGGINGFACEHUB_API_TOKEN = getpass()\n",
        "os.environ[\"HUGGINGFACEHUB_API_TOKEN\"] = HUGGINGFACEHUB_API_TOKEN"
      ]
    },
    {
      "cell_type": "markdown",
      "metadata": {},
      "source": [
        "## Appel de l'API de Mistral-7B-Instruct-v0.2"
      ]
    },
    {
      "cell_type": "code",
      "execution_count": 124,
      "metadata": {},
      "outputs": [
        {
          "name": "stderr",
          "output_type": "stream",
          "text": [
            "WARNING! max_length is not default parameter.\n",
            "                    max_length was transferred to model_kwargs.\n",
            "                    Please make sure that max_length is what you intended.\n",
            "WARNING! token is not default parameter.\n",
            "                    token was transferred to model_kwargs.\n",
            "                    Please make sure that token is what you intended.\n"
          ]
        },
        {
          "name": "stdout",
          "output_type": "stream",
          "text": [
            "Token will not been saved to git credential helper. Pass `add_to_git_credential=True` if you want to set the git credential as well.\n",
            "Token is valid (permission: read).\n",
            "Your token has been saved to /Users/jskaf/.cache/huggingface/token\n",
            "Login successful\n",
            "\n",
            "Answer: The capital city of France is Paris. Paris is one of the most famous cities in the world and is known for its iconic landmarks such as the Eiffel Tower, Louvre Museum, Notre-Dame Cathedral, and the Arc de Triomphe. It is also home to numerous cafes, restaurants, and shops, making it a popular tourist destination. Paris has a rich history and is considered a cultural, artistic, and intellectual center of Europe.\n"
          ]
        }
      ],
      "source": [
        "repo_id = \"mistralai/Mistral-7B-Instruct-v0.2\"\n",
        "\n",
        "llm = HuggingFaceEndpoint(\n",
        "    repo_id=repo_id, max_length=128, temperature=0.3, token=HUGGINGFACEHUB_API_TOKEN\n",
        ")"
      ]
    },
    {
      "cell_type": "markdown",
      "metadata": {},
      "source": [
        "## Exemple de prompt"
      ]
    },
    {
      "cell_type": "code",
      "execution_count": 123,
      "metadata": {},
      "outputs": [],
      "source": [
        "question = \"What is the Capital of France? \"\n",
        "\n",
        "template = \"\"\"Question: {question}\"\"\"\n",
        "\n",
        "prompt = PromptTemplate.from_template(template)"
      ]
    },
    {
      "cell_type": "code",
      "execution_count": null,
      "metadata": {},
      "outputs": [],
      "source": [
        "llm_chain = LLMChain(prompt=prompt, llm=llm)\n",
        "print(llm_chain.run(question))"
      ]
    },
    {
      "cell_type": "markdown",
      "metadata": {},
      "source": [
        "# Partie RAG"
      ]
    },
    {
      "cell_type": "markdown",
      "metadata": {},
      "source": [
        "### Préparation des données au format .csv"
      ]
    },
    {
      "cell_type": "code",
      "execution_count": 128,
      "metadata": {
        "colab": {
          "base_uri": "https://localhost:8080/",
          "height": 419
        },
        "id": "L61XpF6Ydedz",
        "outputId": "3bf7abd2-2ba8-4316-ba77-3f6c504a4ef1"
      },
      "outputs": [
        {
          "data": {
            "text/html": [
              "<div>\n",
              "<style scoped>\n",
              "    .dataframe tbody tr th:only-of-type {\n",
              "        vertical-align: middle;\n",
              "    }\n",
              "\n",
              "    .dataframe tbody tr th {\n",
              "        vertical-align: top;\n",
              "    }\n",
              "\n",
              "    .dataframe thead th {\n",
              "        text-align: right;\n",
              "    }\n",
              "</style>\n",
              "<table border=\"1\" class=\"dataframe\">\n",
              "  <thead>\n",
              "    <tr style=\"text-align: right;\">\n",
              "      <th></th>\n",
              "      <th>original_text</th>\n",
              "      <th>reference_summary</th>\n",
              "      <th>uid</th>\n",
              "    </tr>\n",
              "  </thead>\n",
              "  <tbody>\n",
              "    <tr>\n",
              "      <th>train_sum01</th>\n",
              "      <td>These general Standard Conditions of Sale appl...</td>\n",
              "      <td>These terms and conditions apply as soon as th...</td>\n",
              "      <td>train_sum01</td>\n",
              "    </tr>\n",
              "    <tr>\n",
              "      <th>train_sum010</th>\n",
              "      <td>Each Party represents to the other as at the d...</td>\n",
              "      <td>Each Party represents that the other is not a ...</td>\n",
              "      <td>train_sum010</td>\n",
              "    </tr>\n",
              "    <tr>\n",
              "      <th>train_sum0100</th>\n",
              "      <td>All living, travelling and accommodation expen...</td>\n",
              "      <td>Expenses relating to the travelling, living an...</td>\n",
              "      <td>train_sum0100</td>\n",
              "    </tr>\n",
              "    <tr>\n",
              "      <th>train_sum0101</th>\n",
              "      <td>Unless otherwise specified in the Contract, th...</td>\n",
              "      <td>Unless otherwise specified in the Contract, th...</td>\n",
              "      <td>train_sum0101</td>\n",
              "    </tr>\n",
              "    <tr>\n",
              "      <th>train_sum0102</th>\n",
              "      <td>Reasonable insurance coverage of risks arising...</td>\n",
              "      <td>Reasonable insurance coverage of risks arising...</td>\n",
              "      <td>train_sum0102</td>\n",
              "    </tr>\n",
              "    <tr>\n",
              "      <th>...</th>\n",
              "      <td>...</td>\n",
              "      <td>...</td>\n",
              "      <td>...</td>\n",
              "    </tr>\n",
              "    <tr>\n",
              "      <th>train_sum095</th>\n",
              "      <td>No term or provision hereof will be considered...</td>\n",
              "      <td>No term, provision or breach shall be waived o...</td>\n",
              "      <td>train_sum095</td>\n",
              "    </tr>\n",
              "    <tr>\n",
              "      <th>train_sum096</th>\n",
              "      <td>Any variation or modification of the Contract ...</td>\n",
              "      <td>Any modification to the contract shall be put ...</td>\n",
              "      <td>train_sum096</td>\n",
              "    </tr>\n",
              "    <tr>\n",
              "      <th>train_sum097</th>\n",
              "      <td>The relationship between the Parties is solely...</td>\n",
              "      <td>No joint venture or partnership is intended no...</td>\n",
              "      <td>train_sum097</td>\n",
              "    </tr>\n",
              "    <tr>\n",
              "      <th>train_sum098</th>\n",
              "      <td>The Customer shall not be entitled, without th...</td>\n",
              "      <td>Unless the Seller agrees to it through writing...</td>\n",
              "      <td>train_sum098</td>\n",
              "    </tr>\n",
              "    <tr>\n",
              "      <th>train_sum099</th>\n",
              "      <td>This Specific Annex, subject to SCS, is applic...</td>\n",
              "      <td>This annex is subject to the SCS and applies t...</td>\n",
              "      <td>train_sum099</td>\n",
              "    </tr>\n",
              "  </tbody>\n",
              "</table>\n",
              "<p>413 rows × 3 columns</p>\n",
              "</div>"
            ],
            "text/plain": [
              "                                                   original_text  \\\n",
              "train_sum01    These general Standard Conditions of Sale appl...   \n",
              "train_sum010   Each Party represents to the other as at the d...   \n",
              "train_sum0100  All living, travelling and accommodation expen...   \n",
              "train_sum0101  Unless otherwise specified in the Contract, th...   \n",
              "train_sum0102  Reasonable insurance coverage of risks arising...   \n",
              "...                                                          ...   \n",
              "train_sum095   No term or provision hereof will be considered...   \n",
              "train_sum096   Any variation or modification of the Contract ...   \n",
              "train_sum097   The relationship between the Parties is solely...   \n",
              "train_sum098   The Customer shall not be entitled, without th...   \n",
              "train_sum099   This Specific Annex, subject to SCS, is applic...   \n",
              "\n",
              "                                               reference_summary  \\\n",
              "train_sum01    These terms and conditions apply as soon as th...   \n",
              "train_sum010   Each Party represents that the other is not a ...   \n",
              "train_sum0100  Expenses relating to the travelling, living an...   \n",
              "train_sum0101  Unless otherwise specified in the Contract, th...   \n",
              "train_sum0102  Reasonable insurance coverage of risks arising...   \n",
              "...                                                          ...   \n",
              "train_sum095   No term, provision or breach shall be waived o...   \n",
              "train_sum096   Any modification to the contract shall be put ...   \n",
              "train_sum097   No joint venture or partnership is intended no...   \n",
              "train_sum098   Unless the Seller agrees to it through writing...   \n",
              "train_sum099   This annex is subject to the SCS and applies t...   \n",
              "\n",
              "                         uid  \n",
              "train_sum01      train_sum01  \n",
              "train_sum010    train_sum010  \n",
              "train_sum0100  train_sum0100  \n",
              "train_sum0101  train_sum0101  \n",
              "train_sum0102  train_sum0102  \n",
              "...                      ...  \n",
              "train_sum095    train_sum095  \n",
              "train_sum096    train_sum096  \n",
              "train_sum097    train_sum097  \n",
              "train_sum098    train_sum098  \n",
              "train_sum099    train_sum099  \n",
              "\n",
              "[413 rows x 3 columns]"
            ]
          },
          "execution_count": 128,
          "metadata": {},
          "output_type": "execute_result"
        }
      ],
      "source": [
        "import pandas as pd\n",
        "\n",
        "df = pd.read_json(data_folder_path + \"airbus_helicopters_train_set.json\")\n",
        "df = df.T\n",
        "df"
      ]
    },
    {
      "cell_type": "markdown",
      "metadata": {},
      "source": [
        "### Suppression des \"anomalies\" (résumé plus grand que le texte original)"
      ]
    },
    {
      "cell_type": "code",
      "execution_count": 129,
      "metadata": {
        "colab": {
          "base_uri": "https://localhost:8080/",
          "height": 419
        },
        "id": "xfXdu07aicbU",
        "outputId": "0488dcf0-bbdc-4428-8967-7c832522a73d"
      },
      "outputs": [
        {
          "data": {
            "text/html": [
              "<div>\n",
              "<style scoped>\n",
              "    .dataframe tbody tr th:only-of-type {\n",
              "        vertical-align: middle;\n",
              "    }\n",
              "\n",
              "    .dataframe tbody tr th {\n",
              "        vertical-align: top;\n",
              "    }\n",
              "\n",
              "    .dataframe thead th {\n",
              "        text-align: right;\n",
              "    }\n",
              "</style>\n",
              "<table border=\"1\" class=\"dataframe\">\n",
              "  <thead>\n",
              "    <tr style=\"text-align: right;\">\n",
              "      <th></th>\n",
              "      <th>original_text</th>\n",
              "      <th>reference_summary</th>\n",
              "      <th>uid</th>\n",
              "    </tr>\n",
              "  </thead>\n",
              "  <tbody>\n",
              "    <tr>\n",
              "      <th>train_sum01</th>\n",
              "      <td>These general Standard Conditions of Sale appl...</td>\n",
              "      <td>These terms and conditions apply as soon as th...</td>\n",
              "      <td>train_sum01</td>\n",
              "    </tr>\n",
              "    <tr>\n",
              "      <th>train_sum010</th>\n",
              "      <td>Each Party represents to the other as at the d...</td>\n",
              "      <td>Each Party represents that the other is not a ...</td>\n",
              "      <td>train_sum010</td>\n",
              "    </tr>\n",
              "    <tr>\n",
              "      <th>train_sum0100</th>\n",
              "      <td>All living, travelling and accommodation expen...</td>\n",
              "      <td>Expenses relating to the travelling, living an...</td>\n",
              "      <td>train_sum0100</td>\n",
              "    </tr>\n",
              "    <tr>\n",
              "      <th>train_sum0101</th>\n",
              "      <td>Unless otherwise specified in the Contract, th...</td>\n",
              "      <td>Unless otherwise specified in the Contract, th...</td>\n",
              "      <td>train_sum0101</td>\n",
              "    </tr>\n",
              "    <tr>\n",
              "      <th>train_sum0102</th>\n",
              "      <td>Reasonable insurance coverage of risks arising...</td>\n",
              "      <td>Reasonable insurance coverage of risks arising...</td>\n",
              "      <td>train_sum0102</td>\n",
              "    </tr>\n",
              "    <tr>\n",
              "      <th>...</th>\n",
              "      <td>...</td>\n",
              "      <td>...</td>\n",
              "      <td>...</td>\n",
              "    </tr>\n",
              "    <tr>\n",
              "      <th>train_sum095</th>\n",
              "      <td>No term or provision hereof will be considered...</td>\n",
              "      <td>No term, provision or breach shall be waived o...</td>\n",
              "      <td>train_sum095</td>\n",
              "    </tr>\n",
              "    <tr>\n",
              "      <th>train_sum096</th>\n",
              "      <td>Any variation or modification of the Contract ...</td>\n",
              "      <td>Any modification to the contract shall be put ...</td>\n",
              "      <td>train_sum096</td>\n",
              "    </tr>\n",
              "    <tr>\n",
              "      <th>train_sum097</th>\n",
              "      <td>The relationship between the Parties is solely...</td>\n",
              "      <td>No joint venture or partnership is intended no...</td>\n",
              "      <td>train_sum097</td>\n",
              "    </tr>\n",
              "    <tr>\n",
              "      <th>train_sum098</th>\n",
              "      <td>The Customer shall not be entitled, without th...</td>\n",
              "      <td>Unless the Seller agrees to it through writing...</td>\n",
              "      <td>train_sum098</td>\n",
              "    </tr>\n",
              "    <tr>\n",
              "      <th>train_sum099</th>\n",
              "      <td>This Specific Annex, subject to SCS, is applic...</td>\n",
              "      <td>This annex is subject to the SCS and applies t...</td>\n",
              "      <td>train_sum099</td>\n",
              "    </tr>\n",
              "  </tbody>\n",
              "</table>\n",
              "<p>411 rows × 3 columns</p>\n",
              "</div>"
            ],
            "text/plain": [
              "                                                   original_text  \\\n",
              "train_sum01    These general Standard Conditions of Sale appl...   \n",
              "train_sum010   Each Party represents to the other as at the d...   \n",
              "train_sum0100  All living, travelling and accommodation expen...   \n",
              "train_sum0101  Unless otherwise specified in the Contract, th...   \n",
              "train_sum0102  Reasonable insurance coverage of risks arising...   \n",
              "...                                                          ...   \n",
              "train_sum095   No term or provision hereof will be considered...   \n",
              "train_sum096   Any variation or modification of the Contract ...   \n",
              "train_sum097   The relationship between the Parties is solely...   \n",
              "train_sum098   The Customer shall not be entitled, without th...   \n",
              "train_sum099   This Specific Annex, subject to SCS, is applic...   \n",
              "\n",
              "                                               reference_summary  \\\n",
              "train_sum01    These terms and conditions apply as soon as th...   \n",
              "train_sum010   Each Party represents that the other is not a ...   \n",
              "train_sum0100  Expenses relating to the travelling, living an...   \n",
              "train_sum0101  Unless otherwise specified in the Contract, th...   \n",
              "train_sum0102  Reasonable insurance coverage of risks arising...   \n",
              "...                                                          ...   \n",
              "train_sum095   No term, provision or breach shall be waived o...   \n",
              "train_sum096   Any modification to the contract shall be put ...   \n",
              "train_sum097   No joint venture or partnership is intended no...   \n",
              "train_sum098   Unless the Seller agrees to it through writing...   \n",
              "train_sum099   This annex is subject to the SCS and applies t...   \n",
              "\n",
              "                         uid  \n",
              "train_sum01      train_sum01  \n",
              "train_sum010    train_sum010  \n",
              "train_sum0100  train_sum0100  \n",
              "train_sum0101  train_sum0101  \n",
              "train_sum0102  train_sum0102  \n",
              "...                      ...  \n",
              "train_sum095    train_sum095  \n",
              "train_sum096    train_sum096  \n",
              "train_sum097    train_sum097  \n",
              "train_sum098    train_sum098  \n",
              "train_sum099    train_sum099  \n",
              "\n",
              "[411 rows x 3 columns]"
            ]
          },
          "execution_count": 129,
          "metadata": {},
          "output_type": "execute_result"
        }
      ],
      "source": [
        "indices_to_remove = ['train_sum0279', 'train_sum0317']\n",
        "\n",
        "# Remove rows based on specified indices\n",
        "df = df.drop(indices_to_remove, axis=0)\n",
        "df"
      ]
    },
    {
      "cell_type": "code",
      "execution_count": 130,
      "metadata": {
        "colab": {
          "base_uri": "https://localhost:8080/",
          "height": 419
        },
        "id": "tP0tmVUAkox1",
        "outputId": "b25e3996-f28c-4489-e457-9efd88b5e1b0"
      },
      "outputs": [
        {
          "data": {
            "text/html": [
              "<div>\n",
              "<style scoped>\n",
              "    .dataframe tbody tr th:only-of-type {\n",
              "        vertical-align: middle;\n",
              "    }\n",
              "\n",
              "    .dataframe tbody tr th {\n",
              "        vertical-align: top;\n",
              "    }\n",
              "\n",
              "    .dataframe thead th {\n",
              "        text-align: right;\n",
              "    }\n",
              "</style>\n",
              "<table border=\"1\" class=\"dataframe\">\n",
              "  <thead>\n",
              "    <tr style=\"text-align: right;\">\n",
              "      <th></th>\n",
              "      <th>index</th>\n",
              "      <th>original_text</th>\n",
              "      <th>reference_summary</th>\n",
              "      <th>uid</th>\n",
              "    </tr>\n",
              "  </thead>\n",
              "  <tbody>\n",
              "    <tr>\n",
              "      <th>0</th>\n",
              "      <td>train_sum01</td>\n",
              "      <td>These general Standard Conditions of Sale appl...</td>\n",
              "      <td>These terms and conditions apply as soon as th...</td>\n",
              "      <td>train_sum01</td>\n",
              "    </tr>\n",
              "    <tr>\n",
              "      <th>1</th>\n",
              "      <td>train_sum010</td>\n",
              "      <td>Each Party represents to the other as at the d...</td>\n",
              "      <td>Each Party represents that the other is not a ...</td>\n",
              "      <td>train_sum010</td>\n",
              "    </tr>\n",
              "    <tr>\n",
              "      <th>2</th>\n",
              "      <td>train_sum0100</td>\n",
              "      <td>All living, travelling and accommodation expen...</td>\n",
              "      <td>Expenses relating to the travelling, living an...</td>\n",
              "      <td>train_sum0100</td>\n",
              "    </tr>\n",
              "    <tr>\n",
              "      <th>3</th>\n",
              "      <td>train_sum0101</td>\n",
              "      <td>Unless otherwise specified in the Contract, th...</td>\n",
              "      <td>Unless otherwise specified in the Contract, th...</td>\n",
              "      <td>train_sum0101</td>\n",
              "    </tr>\n",
              "    <tr>\n",
              "      <th>4</th>\n",
              "      <td>train_sum0102</td>\n",
              "      <td>Reasonable insurance coverage of risks arising...</td>\n",
              "      <td>Reasonable insurance coverage of risks arising...</td>\n",
              "      <td>train_sum0102</td>\n",
              "    </tr>\n",
              "    <tr>\n",
              "      <th>...</th>\n",
              "      <td>...</td>\n",
              "      <td>...</td>\n",
              "      <td>...</td>\n",
              "      <td>...</td>\n",
              "    </tr>\n",
              "    <tr>\n",
              "      <th>406</th>\n",
              "      <td>train_sum095</td>\n",
              "      <td>No term or provision hereof will be considered...</td>\n",
              "      <td>No term, provision or breach shall be waived o...</td>\n",
              "      <td>train_sum095</td>\n",
              "    </tr>\n",
              "    <tr>\n",
              "      <th>407</th>\n",
              "      <td>train_sum096</td>\n",
              "      <td>Any variation or modification of the Contract ...</td>\n",
              "      <td>Any modification to the contract shall be put ...</td>\n",
              "      <td>train_sum096</td>\n",
              "    </tr>\n",
              "    <tr>\n",
              "      <th>408</th>\n",
              "      <td>train_sum097</td>\n",
              "      <td>The relationship between the Parties is solely...</td>\n",
              "      <td>No joint venture or partnership is intended no...</td>\n",
              "      <td>train_sum097</td>\n",
              "    </tr>\n",
              "    <tr>\n",
              "      <th>409</th>\n",
              "      <td>train_sum098</td>\n",
              "      <td>The Customer shall not be entitled, without th...</td>\n",
              "      <td>Unless the Seller agrees to it through writing...</td>\n",
              "      <td>train_sum098</td>\n",
              "    </tr>\n",
              "    <tr>\n",
              "      <th>410</th>\n",
              "      <td>train_sum099</td>\n",
              "      <td>This Specific Annex, subject to SCS, is applic...</td>\n",
              "      <td>This annex is subject to the SCS and applies t...</td>\n",
              "      <td>train_sum099</td>\n",
              "    </tr>\n",
              "  </tbody>\n",
              "</table>\n",
              "<p>411 rows × 4 columns</p>\n",
              "</div>"
            ],
            "text/plain": [
              "             index                                      original_text  \\\n",
              "0      train_sum01  These general Standard Conditions of Sale appl...   \n",
              "1     train_sum010  Each Party represents to the other as at the d...   \n",
              "2    train_sum0100  All living, travelling and accommodation expen...   \n",
              "3    train_sum0101  Unless otherwise specified in the Contract, th...   \n",
              "4    train_sum0102  Reasonable insurance coverage of risks arising...   \n",
              "..             ...                                                ...   \n",
              "406   train_sum095  No term or provision hereof will be considered...   \n",
              "407   train_sum096  Any variation or modification of the Contract ...   \n",
              "408   train_sum097  The relationship between the Parties is solely...   \n",
              "409   train_sum098  The Customer shall not be entitled, without th...   \n",
              "410   train_sum099  This Specific Annex, subject to SCS, is applic...   \n",
              "\n",
              "                                     reference_summary            uid  \n",
              "0    These terms and conditions apply as soon as th...    train_sum01  \n",
              "1    Each Party represents that the other is not a ...   train_sum010  \n",
              "2    Expenses relating to the travelling, living an...  train_sum0100  \n",
              "3    Unless otherwise specified in the Contract, th...  train_sum0101  \n",
              "4    Reasonable insurance coverage of risks arising...  train_sum0102  \n",
              "..                                                 ...            ...  \n",
              "406  No term, provision or breach shall be waived o...   train_sum095  \n",
              "407  Any modification to the contract shall be put ...   train_sum096  \n",
              "408  No joint venture or partnership is intended no...   train_sum097  \n",
              "409  Unless the Seller agrees to it through writing...   train_sum098  \n",
              "410  This annex is subject to the SCS and applies t...   train_sum099  \n",
              "\n",
              "[411 rows x 4 columns]"
            ]
          },
          "execution_count": 130,
          "metadata": {},
          "output_type": "execute_result"
        }
      ],
      "source": [
        "df_reset = df.reset_index()\n",
        "df_reset = df_reset.drop([\"index\",\"uid\"], axis = 1)\n",
        "df_reset"
      ]
    },
    {
      "cell_type": "markdown",
      "metadata": {},
      "source": [
        "### Sauvegarde des données au format .csv"
      ]
    },
    {
      "cell_type": "code",
      "execution_count": 133,
      "metadata": {
        "id": "IcOQGKzKi1KZ"
      },
      "outputs": [],
      "source": [
        "df_reset.to_csv(data_folder_path + \"airbus_helicopters_train_set.csv\")"
      ]
    },
    {
      "cell_type": "markdown",
      "metadata": {},
      "source": [
        "## Partie Langchain Agent"
      ]
    },
    {
      "cell_type": "code",
      "execution_count": null,
      "metadata": {},
      "outputs": [],
      "source": [
        "from langchain_community.document_loaders.csv_loader import CSVLoader\n",
        "from langchain.text_splitter import RecursiveCharacterTextSplitter\n",
        "from langchain_community.embeddings import HuggingFaceEmbeddings\n",
        "from langchain.vectorstores import FAISS\n",
        "import re"
      ]
    },
    {
      "cell_type": "code",
      "execution_count": 198,
      "metadata": {},
      "outputs": [],
      "source": [
        "df_test = pd.read_csv(data_folder_path + \"airbus_helicopters_train_set.csv\")"
      ]
    },
    {
      "cell_type": "code",
      "execution_count": null,
      "metadata": {},
      "outputs": [],
      "source": [
        "embeddings = HuggingFaceEmbeddings()"
      ]
    },
    {
      "cell_type": "markdown",
      "metadata": {},
      "source": [
        "### Création des documents surlesquels retrieve"
      ]
    },
    {
      "cell_type": "code",
      "execution_count": 135,
      "metadata": {
        "colab": {
          "base_uri": "https://localhost:8080/"
        },
        "id": "JcwMqqx6cYxf",
        "outputId": "db297bbb-95aa-4e93-bf86-fc9ea61254b0"
      },
      "outputs": [
        {
          "data": {
            "text/plain": [
              "<langchain_community.vectorstores.faiss.FAISS at 0x2de8e3550>"
            ]
          },
          "execution_count": 135,
          "metadata": {},
          "output_type": "execute_result"
        }
      ],
      "source": [
        "def create_db_data() -> FAISS:\n",
        "    global embeddings\n",
        "    loader = CSVLoader(file_path=data_folder_path + \"airbus_helicopters_train_set.csv\")\n",
        "    transcript = loader.load()\n",
        "    text_splitter = RecursiveCharacterTextSplitter(chunk_size=1000, chunk_overlap=100)\n",
        "    docs = text_splitter.split_documents(transcript)\n",
        "    db = FAISS.from_documents(docs, embeddings)\n",
        "    return db\n",
        "\n",
        "\n",
        "create_db_data()\n"
      ]
    },
    {
      "cell_type": "markdown",
      "metadata": {},
      "source": [
        "### Fonction qui résume à partir du texte original et du retrieval "
      ]
    },
    {
      "cell_type": "code",
      "execution_count": 186,
      "metadata": {
        "id": "yW-fiOiZlqa1"
      },
      "outputs": [],
      "source": [
        "def get_summary_original_text(db, original_text,  k=1):\n",
        "    global llm\n",
        "\n",
        "    docs = db.similarity_search(original_text, k=k)\n",
        "    docs_page_content = \" \".join([d.page_content for d in docs])\n",
        "\n",
        "    # Use regular expression to remove \": {number}\"\n",
        "    cleaned_text = re.sub(r': \\d{1,3}', '', docs_page_content)\n",
        "    # Remove leading and trailing whitespaces\n",
        "    cleaned_text = cleaned_text.strip()\n",
        "\n",
        "    print(cleaned_text)\n",
        "\n",
        "    prompt = PromptTemplate(\n",
        "        input_variables=[\"original_text\", \"docs\"],\n",
        "        template=\"\"\"\n",
        "        You are a helpful legal assistant that that can summarize legal text.\n",
        "        \n",
        "        Summarize the following original text : {original_text}, in a clear paragraph. You can use the following documents to help you write in the same tone: {docs}. Speak in a professional tone, as if you were writing a legal document.\n",
        "        Do not mention the text. Be brief and shorter than the original text. \n",
        "\n",
        "        \"\"\",\n",
        "    )\n",
        "    \n",
        "    chain = LLMChain(llm=llm, prompt=prompt)\n",
        "    response = chain.run(original_text = original_text, docs = cleaned_text)\n",
        "    response = response.replace(\"\\n\", \"\")\n",
        "    return response, docs"
      ]
    },
    {
      "cell_type": "markdown",
      "metadata": {},
      "source": [
        "### Fonction qui améliore un résumé proposé"
      ]
    },
    {
      "cell_type": "code",
      "execution_count": 193,
      "metadata": {},
      "outputs": [],
      "source": [
        "def get_summary_enhanced(db, summary, original_text,  k=1):\n",
        "    global llm\n",
        "\n",
        "    docs = db.similarity_search(summary, k=k)\n",
        "    docs_page_content = \" \".join([d.page_content for d in docs])\n",
        "\n",
        "    # Use regular expression to remove \": {number}\"\n",
        "    cleaned_text = re.sub(r': \\d{1,3}', '', docs_page_content)\n",
        "    # Remove leading and trailing whitespaces\n",
        "    cleaned_text = cleaned_text.strip()\n",
        "\n",
        "    print(cleaned_text)\n",
        "\n",
        "    prompt = PromptTemplate(\n",
        "        input_variables=[\"summary\",\"original_text\", \"docs\"],\n",
        "        template=\"\"\"\n",
        "        You are a helpful legal assistant that that can summarize legal text.\n",
        "\n",
        "        You have been asked to enhance the following summary: {summary}. The original text is: {original_text}. You can use the following documents to help you write in the same tone: {docs}. \n",
        "        Speak in a professional tone, as if you were writing a legal document.\n",
        "        Do not mention the text. Be brief and shorter than the original text. \n",
        "\n",
        "        \"\"\",\n",
        "    )\n",
        "    \n",
        "    chain = LLMChain(llm=llm, prompt=prompt)\n",
        "    response = chain.run(summary = summary, original_text = original_text, docs = cleaned_text)\n",
        "    response = response.replace(\"\\n\", \"\")\n",
        "    return response, docs"
      ]
    },
    {
      "cell_type": "markdown",
      "metadata": {},
      "source": [
        "#### ID du texte surlquel on veut améliorer/générer le résumé"
      ]
    },
    {
      "cell_type": "code",
      "execution_count": 187,
      "metadata": {},
      "outputs": [],
      "source": [
        "num_text = 20"
      ]
    },
    {
      "cell_type": "markdown",
      "metadata": {},
      "source": [
        "#### Exemple de summary"
      ]
    },
    {
      "cell_type": "code",
      "execution_count": 188,
      "metadata": {
        "colab": {
          "base_uri": "https://localhost:8080/",
          "height": 35
        },
        "id": "9d9k1qd_w_h1",
        "outputId": "99d3ebd4-cd72-4a8c-d60a-54da48981fa9"
      },
      "outputs": [
        {
          "data": {
            "text/plain": [
              "'If the Customer fails to fulfil these administrative conditions before the start of the training session, the Seller may postpone or cancel the Training Services at Customer’s expenses and apply provisions of articles E2-3 and/or Article 14.1.1 of the SCS.'"
            ]
          },
          "execution_count": 188,
          "metadata": {},
          "output_type": "execute_result"
        }
      ],
      "source": [
        "db = create_db_data()\n",
        "original_text, summary = df_test[\"original_text\"].iloc[num_text], df_test[\"reference_summary\"].iloc[num_text]\n",
        "summary"
      ]
    },
    {
      "cell_type": "markdown",
      "metadata": {},
      "source": [
        "### Génération de résumé"
      ]
    },
    {
      "cell_type": "code",
      "execution_count": 189,
      "metadata": {
        "colab": {
          "base_uri": "https://localhost:8080/"
        },
        "id": "lVao4EMyvFnL",
        "outputId": "4f794bf5-07d9-43af-a9aa-e4c3c9b93f71"
      },
      "outputs": [
        {
          "name": "stdout",
          "output_type": "stream",
          "text": [
            "original_text: Should the Customer fail to fulfil the administrative conditions before the start of the training session, the Seller reserves the right to postpone said session at Customer expense or cancel it and apply the provisions defined under article E2-3 and/or article 14.1.1 of SCS.\n",
            "reference_summary: If the Customer fails to fulfil these administrative conditions before the start of the training session, the Seller may postpone or cancel the Training Services at Customer’s expenses and apply provisions of articles E2-3 and/or Article 14.1.1 of the SCS.\n"
          ]
        }
      ],
      "source": [
        "response, docs = get_summary_original_text(db, original_text)"
      ]
    },
    {
      "cell_type": "code",
      "execution_count": 190,
      "metadata": {
        "colab": {
          "base_uri": "https://localhost:8080/"
        },
        "id": "RIkGePjFwYcJ",
        "outputId": "32360c05-2bcc-4cbe-80d0-06b357f25053"
      },
      "outputs": [
        {
          "data": {
            "text/plain": [
              "\" If the customer does not meet the administrative requirements prior to the training session, the seller has the right to either postpone the session at the customer's expense or cancel it altogether. In such cases, the provisions outlined in articles E2-3 and/or Article 14.1.1 of the SCS will apply.\""
            ]
          },
          "execution_count": 190,
          "metadata": {},
          "output_type": "execute_result"
        }
      ],
      "source": [
        "response"
      ]
    },
    {
      "cell_type": "markdown",
      "metadata": {},
      "source": [
        "### Amélioration de résumé"
      ]
    },
    {
      "cell_type": "code",
      "execution_count": 194,
      "metadata": {},
      "outputs": [
        {
          "name": "stdout",
          "output_type": "stream",
          "text": [
            "original_text: Should the Customer fail to fulfil the administrative conditions before the start of the training session, the Seller reserves the right to postpone said session at Customer expense or cancel it and apply the provisions defined under article E2-3 and/or article 14.1.1 of SCS.\n",
            "reference_summary: If the Customer fails to fulfil these administrative conditions before the start of the training session, the Seller may postpone or cancel the Training Services at Customer’s expenses and apply provisions of articles E2-3 and/or Article 14.1.1 of the SCS.\n"
          ]
        }
      ],
      "source": [
        "enhanced_summary, docs = get_summary_enhanced(db, response, original_text)"
      ]
    },
    {
      "cell_type": "code",
      "execution_count": 195,
      "metadata": {},
      "outputs": [
        {
          "data": {
            "text/plain": [
              "'If the customer fails to meet administrative requirements before the training session, the seller may postpone or cancel at customer expense and apply provisions from articles E2-3 and 14.1.1.'"
            ]
          },
          "execution_count": 195,
          "metadata": {},
          "output_type": "execute_result"
        }
      ],
      "source": [
        "enhanced_summary"
      ]
    }
  ],
  "metadata": {
    "accelerator": "GPU",
    "colab": {
      "gpuType": "T4",
      "provenance": []
    },
    "kernelspec": {
      "display_name": "Python 3",
      "name": "python3"
    },
    "language_info": {
      "codemirror_mode": {
        "name": "ipython",
        "version": 3
      },
      "file_extension": ".py",
      "mimetype": "text/x-python",
      "name": "python",
      "nbconvert_exporter": "python",
      "pygments_lexer": "ipython3",
      "version": "3.10.0"
    }
  },
  "nbformat": 4,
  "nbformat_minor": 0
}
